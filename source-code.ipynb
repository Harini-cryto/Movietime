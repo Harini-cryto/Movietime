# main.py

from src.data_preprocessing import load_and_clean_data
from src.feature_engineering import engineer_features
from src.models import build_models
from src.evaluation import evaluate_models


def main():
    print("Loading and preprocessing data...")
    data = load_and_clean_data()

    print("Engineering features...")
    user_item_matrix, user_features, movie_features = engineer_features(data)

    print("Building and training models...")
    models = build_models(user_item_matrix, user_features, movie_features)

    print("Evaluating models...")
    evaluate_models(models, user_item_matrix)


if __name__ == "__main__":
    main()


# src/data_preprocessing.py
import pandas as pd
import os

def load_and_clean_data():
    ratings = pd.read_csv("data/movielens_100k/ratings.csv")
    movies = pd.read_csv("data/movielens_100k/movies.csv")

    ratings.drop_duplicates(inplace=True)
    ratings = ratings[(ratings['rating'] >= 1) & (ratings['rating'] <= 5)]

    return pd.merge(ratings, movies, on="movieId")


# src/feature_engineering.py
import pandas as pd
from sklearn.preprocessing import MultiLabelBinarizer
from sklearn.decomposition import TruncatedSVD

def engineer_features(data):
    data["genres"] = data["genres"].apply(lambda x: x.split("|"))
    mlb = MultiLabelBinarizer()
    genre_features = pd.DataFrame(mlb.fit_transform(data["genres"]), columns=mlb.classes_)

    data = pd.concat([data, genre_features], axis=1)

    user_item_matrix = data.pivot(index="userId", columns="movieId", values="rating").fillna(0)
    svd = TruncatedSVD(n_components=20)
    latent_features = svd.fit_transform(user_item_matrix)

    return user_item_matrix, data.groupby("userId")[genre_features.columns].mean(), data.groupby("movieId")[genre_features.columns].mean()


# src/models.py
from sklearn.metrics.pairwise import cosine_similarity
import numpy as np

def build_models(user_item_matrix, user_features, movie_features):
    user_sim = cosine_similarity(user_features)
    item_sim = cosine_similarity(movie_features)

    user_pred = user_sim.dot(user_item_matrix.fillna(0)) / np.array([np.abs(user_sim).sum(axis=1)]).T
    item_pred = user_item_matrix.fillna(0).dot(item_sim) / np.array([np.abs(item_sim).sum(axis=1)])



#program for top 10 movie reccomendations

    
import difflib

Movie_Name = input('Enter your favorite movie name: ')

list_of_all_titles = df['Movie_Title'].tolist()

# Find close matches to the input movie name
close_matches = difflib.get_close_matches(Movie_Name, list_of_all_titles)

if close_matches:
    closest_match = close_matches[0]  # Get the closest match
    Index_of_Movie = df[df.Movie_Title == closest_match]['Movie_ID'].values[0]

    Recommendation_Score = list(enumerate(Similarity_Score[Index_of_Movie]))

    sorted_similar_movies = sorted(Recommendation_Score, key=lambda x: x[1], reverse=True)

    print('Top 10 Movies suggested for you: \n')

    i = 1

    for movie in sorted_similar_movies:
        index = movie[0]
        if index < len(df):
            title_from_index = df[df.Movie_ID == index]['Movie_Title'].values[0]
            print(i, '.', title_from_index)
            i += 1
        else:
            print("Invalid index:", index)

        if i > 10:
            break
else:
    print('No close matches found for the entered movie name.')

     
